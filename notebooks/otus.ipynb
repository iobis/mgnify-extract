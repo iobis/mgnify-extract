{
 "cells": [
  {
   "cell_type": "code",
   "execution_count": null,
   "metadata": {},
   "outputs": [],
   "source": []
  }
 ],
 "metadata": {
  "kernelspec": {
   "display_name": "Python 3",
   "language": "python",
   "name": "python3"
  },
  "language_info": {
   "name": "python",
   "version": "3.9.6 (default, Jan  4 2022, 14:55:38) \n[Clang 13.0.0 (clang-1300.0.29.30)]"
  },
  "orig_nbformat": 4,
  "vscode": {
   "interpreter": {
    "hash": "314a97c846296f63d0e4efa7147ce547b99d51e3f641193b55b463cff9afbb5e"
   }
  }
 },
 "nbformat": 4,
 "nbformat_minor": 2
}
