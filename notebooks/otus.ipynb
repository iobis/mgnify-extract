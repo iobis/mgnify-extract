{
 "cells": [
  {
   "attachments": {},
   "cell_type": "markdown",
   "metadata": {},
   "source": [
    "# MGnify to Darwin Core export notes\n",
    "## What do OTUs represent in the MGnify pipeline?\n",
    "\n",
    "Get all SSU downloads for analysis <https://www.ebi.ac.uk/metagenomics/analyses/MGYA00463299> from [Marine metagenomes from the bioGEOTRACES project](https://www.ebi.ac.uk/metagenomics/studies/MGYS00005294#overview):"
   ]
  },
  {
   "cell_type": "code",
   "execution_count": 12,
   "metadata": {},
   "outputs": [
    {
     "data": {
      "text/plain": [
       "<Analysis https://www.ebi.ac.uk/metagenomics/analyses/MGYA00463299 >"
      ]
     },
     "execution_count": 12,
     "metadata": {},
     "output_type": "execute_result"
    }
   ],
   "source": [
    "import pandas as pd\n",
    "from mgnifyextract.analyses import get_analysis\n",
    "from mgnifyextract.downloads import FastaDownload, MseqDownload, TsvDownload\n",
    "from mgnifyextract.studies import get_superstudy_studies\n",
    "from mgnifyextract.util import clean_taxonomy_string\n",
    "\n",
    "analysis = get_analysis(\"MGYA00463299\")\n",
    "analysis"
   ]
  },
  {
   "cell_type": "code",
   "execution_count": 13,
   "metadata": {},
   "outputs": [],
   "source": [
    "downloads = analysis.get_downloads()\n",
    "\n",
    "marker = \"SSU\"\n",
    "\n",
    "fasta_files = [download for download in downloads if isinstance(download, FastaDownload) and download.marker == marker]\n",
    "mseq_files = [download for download in downloads if isinstance(download, MseqDownload) and download.marker == marker]\n",
    "tsv_files = [download for download in downloads if isinstance(download, TsvDownload) and download.marker == marker]"
   ]
  },
  {
   "attachments": {},
   "cell_type": "markdown",
   "metadata": {},
   "source": [
    "Let's take a look at the number of rows in the fasta, mseq, and OTU files."
   ]
  },
  {
   "cell_type": "code",
   "execution_count": 14,
   "metadata": {},
   "outputs": [
    {
     "data": {
      "text/html": [
       "<div>\n",
       "<style scoped>\n",
       "    .dataframe tbody tr th:only-of-type {\n",
       "        vertical-align: middle;\n",
       "    }\n",
       "\n",
       "    .dataframe tbody tr th {\n",
       "        vertical-align: top;\n",
       "    }\n",
       "\n",
       "    .dataframe thead th {\n",
       "        text-align: right;\n",
       "    }\n",
       "</style>\n",
       "<table border=\"1\" class=\"dataframe\">\n",
       "  <thead>\n",
       "    <tr style=\"text-align: right;\">\n",
       "      <th></th>\n",
       "      <th>reference</th>\n",
       "      <th>sequence</th>\n",
       "    </tr>\n",
       "  </thead>\n",
       "  <tbody>\n",
       "    <tr>\n",
       "      <th>0</th>\n",
       "      <td>SRR5788044.10095561-NS500496-106-HF3LCBGXX:2:1...</td>\n",
       "      <td>GCTCAGTAACACGTGGATTACCTGCCCTATCGTTCGGAATAACCTC...</td>\n",
       "    </tr>\n",
       "    <tr>\n",
       "      <th>1</th>\n",
       "      <td>SRR5788044.10101861-NS500496-106-HF3LCBGXX:2:1...</td>\n",
       "      <td>TCGATTAAGCCATGCGAGTCGAGAGTCCTCGGGACTCGGCATACTG...</td>\n",
       "    </tr>\n",
       "    <tr>\n",
       "      <th>2</th>\n",
       "      <td>SRR5788044.10217657-NS500496-106-HF3LCBGXX:2:1...</td>\n",
       "      <td>CTGAGACACGAATCCAGAACCTACGGGGTGCAGCAGGCGCGAAAAC...</td>\n",
       "    </tr>\n",
       "    <tr>\n",
       "      <th>3</th>\n",
       "      <td>SRR5788044.10249364-NS500496-106-HF3LCBGXX:2:1...</td>\n",
       "      <td>GCTGTAACTCGCCCTCGTGAAGCTGGATTCCGTAGTAATCGTGTTT...</td>\n",
       "    </tr>\n",
       "    <tr>\n",
       "      <th>4</th>\n",
       "      <td>SRR5788044.10249364-NS500496-106-HF3LCBGXX:2:1...</td>\n",
       "      <td>AGGCTGTAACTCGCCCTCGTGAAGCTGGATTCCGTAGTAATCGTGT...</td>\n",
       "    </tr>\n",
       "    <tr>\n",
       "      <th>...</th>\n",
       "      <td>...</td>\n",
       "      <td>...</td>\n",
       "    </tr>\n",
       "    <tr>\n",
       "      <th>27292</th>\n",
       "      <td>SRR5788044.9932850-NS500496-106-HF3LCBGXX:2:13...</td>\n",
       "      <td>AGTAAACTTTAAATCACTTTACGAGTATCAATTGGAGGGCAAGTCT...</td>\n",
       "    </tr>\n",
       "    <tr>\n",
       "      <th>27293</th>\n",
       "      <td>SRR5788044.9932850-NS500496-106-HF3LCBGXX:2:13...</td>\n",
       "      <td>ACCCTGGACTTTTACTTTGAGGAAATTAGTGTGTTTCAAGCAGGCT...</td>\n",
       "    </tr>\n",
       "    <tr>\n",
       "      <th>27294</th>\n",
       "      <td>SRR5788044.9948620-NS500496-106-HF3LCBGXX:2:13...</td>\n",
       "      <td>GACTAAGCCATGCATGTCTAAGTATAAGCAGATTATACTGCGAGAC...</td>\n",
       "    </tr>\n",
       "    <tr>\n",
       "      <th>27295</th>\n",
       "      <td>SRR5788044.9950945-NS500496-106-HF3LCBGXX:2:13...</td>\n",
       "      <td>AATCGAAGTCTTTAGGTGTCGACGGGGAGCTTGCTGCCAGGTGGAA...</td>\n",
       "    </tr>\n",
       "    <tr>\n",
       "      <th>27296</th>\n",
       "      <td>SRR5788044.9972894-NS500496-106-HF3LCBGXX:2:13...</td>\n",
       "      <td>GATTTAGCCATGCATGTCTCAGTATAAGTTTTCACACAACGAAACT...</td>\n",
       "    </tr>\n",
       "  </tbody>\n",
       "</table>\n",
       "<p>27297 rows × 2 columns</p>\n",
       "</div>"
      ],
      "text/plain": [
       "                                               reference  \\\n",
       "0      SRR5788044.10095561-NS500496-106-HF3LCBGXX:2:1...   \n",
       "1      SRR5788044.10101861-NS500496-106-HF3LCBGXX:2:1...   \n",
       "2      SRR5788044.10217657-NS500496-106-HF3LCBGXX:2:1...   \n",
       "3      SRR5788044.10249364-NS500496-106-HF3LCBGXX:2:1...   \n",
       "4      SRR5788044.10249364-NS500496-106-HF3LCBGXX:2:1...   \n",
       "...                                                  ...   \n",
       "27292  SRR5788044.9932850-NS500496-106-HF3LCBGXX:2:13...   \n",
       "27293  SRR5788044.9932850-NS500496-106-HF3LCBGXX:2:13...   \n",
       "27294  SRR5788044.9948620-NS500496-106-HF3LCBGXX:2:13...   \n",
       "27295  SRR5788044.9950945-NS500496-106-HF3LCBGXX:2:13...   \n",
       "27296  SRR5788044.9972894-NS500496-106-HF3LCBGXX:2:13...   \n",
       "\n",
       "                                                sequence  \n",
       "0      GCTCAGTAACACGTGGATTACCTGCCCTATCGTTCGGAATAACCTC...  \n",
       "1      TCGATTAAGCCATGCGAGTCGAGAGTCCTCGGGACTCGGCATACTG...  \n",
       "2      CTGAGACACGAATCCAGAACCTACGGGGTGCAGCAGGCGCGAAAAC...  \n",
       "3      GCTGTAACTCGCCCTCGTGAAGCTGGATTCCGTAGTAATCGTGTTT...  \n",
       "4      AGGCTGTAACTCGCCCTCGTGAAGCTGGATTCCGTAGTAATCGTGT...  \n",
       "...                                                  ...  \n",
       "27292  AGTAAACTTTAAATCACTTTACGAGTATCAATTGGAGGGCAAGTCT...  \n",
       "27293  ACCCTGGACTTTTACTTTGAGGAAATTAGTGTGTTTCAAGCAGGCT...  \n",
       "27294  GACTAAGCCATGCATGTCTAAGTATAAGCAGATTATACTGCGAGAC...  \n",
       "27295  AATCGAAGTCTTTAGGTGTCGACGGGGAGCTTGCTGCCAGGTGGAA...  \n",
       "27296  GATTTAGCCATGCATGTCTCAGTATAAGTTTTCACACAACGAAACT...  \n",
       "\n",
       "[27297 rows x 2 columns]"
      ]
     },
     "execution_count": 14,
     "metadata": {},
     "output_type": "execute_result"
    }
   ],
   "source": [
    "fasta = fasta_files[0].read_pandas()\n",
    "fasta"
   ]
  },
  {
   "cell_type": "code",
   "execution_count": 15,
   "metadata": {},
   "outputs": [
    {
     "name": "stdout",
     "output_type": "stream",
     "text": [
      "<class 'pandas.core.frame.DataFrame'>\n",
      "RangeIndex: 27297 entries, 0 to 27296\n",
      "Data columns (total 2 columns):\n",
      " #   Column     Non-Null Count  Dtype \n",
      "---  ------     --------------  ----- \n",
      " 0   reference  27297 non-null  object\n",
      " 1   sequence   27297 non-null  object\n",
      "dtypes: object(2)\n",
      "memory usage: 426.6+ KB\n"
     ]
    }
   ],
   "source": [
    "fasta.info()"
   ]
  },
  {
   "cell_type": "code",
   "execution_count": 16,
   "metadata": {},
   "outputs": [
    {
     "data": {
      "text/html": [
       "<div>\n",
       "<style scoped>\n",
       "    .dataframe tbody tr th:only-of-type {\n",
       "        vertical-align: middle;\n",
       "    }\n",
       "\n",
       "    .dataframe tbody tr th {\n",
       "        vertical-align: top;\n",
       "    }\n",
       "\n",
       "    .dataframe thead th {\n",
       "        text-align: right;\n",
       "    }\n",
       "</style>\n",
       "<table border=\"1\" class=\"dataframe\">\n",
       "  <thead>\n",
       "    <tr style=\"text-align: right;\">\n",
       "      <th></th>\n",
       "      <th>#query</th>\n",
       "      <th>dbhit</th>\n",
       "      <th>bitscore</th>\n",
       "      <th>identity</th>\n",
       "      <th>matches</th>\n",
       "      <th>mismatches</th>\n",
       "      <th>gaps</th>\n",
       "      <th>query_start</th>\n",
       "      <th>query_end</th>\n",
       "      <th>dbhit_start</th>\n",
       "      <th>dbhit_end</th>\n",
       "      <th>strand</th>\n",
       "      <th>Unnamed: 12</th>\n",
       "      <th>SILVA</th>\n",
       "      <th>Unnamed: 14</th>\n",
       "    </tr>\n",
       "  </thead>\n",
       "  <tbody>\n",
       "    <tr>\n",
       "      <th>0</th>\n",
       "      <td>SRR5788044.10095561-NS500496-106-HF3LCBGXX:2:1...</td>\n",
       "      <td>JX281272.1.902</td>\n",
       "      <td>231</td>\n",
       "      <td>0.983264</td>\n",
       "      <td>235</td>\n",
       "      <td>4</td>\n",
       "      <td>0</td>\n",
       "      <td>0</td>\n",
       "      <td>239</td>\n",
       "      <td>82</td>\n",
       "      <td>321</td>\n",
       "      <td>+</td>\n",
       "      <td>NaN</td>\n",
       "      <td>sk__Archaea;k__;p__Euryarchaeota;c__;o__;f__;g...</td>\n",
       "      <td>NaN</td>\n",
       "    </tr>\n",
       "    <tr>\n",
       "      <th>1</th>\n",
       "      <td>SRR5788044.10101861-NS500496-106-HF3LCBGXX:2:1...</td>\n",
       "      <td>HQ529831.1.913</td>\n",
       "      <td>178</td>\n",
       "      <td>1.000000</td>\n",
       "      <td>178</td>\n",
       "      <td>0</td>\n",
       "      <td>0</td>\n",
       "      <td>0</td>\n",
       "      <td>178</td>\n",
       "      <td>37</td>\n",
       "      <td>215</td>\n",
       "      <td>+</td>\n",
       "      <td>NaN</td>\n",
       "      <td>sk__Archaea;k__;p__Euryarchaeota;c__;o__;f__;g...</td>\n",
       "      <td>NaN</td>\n",
       "    </tr>\n",
       "    <tr>\n",
       "      <th>2</th>\n",
       "      <td>SRR5788044.10217657-NS500496-106-HF3LCBGXX:2:1...</td>\n",
       "      <td>HQ529796.1.902</td>\n",
       "      <td>145</td>\n",
       "      <td>0.993197</td>\n",
       "      <td>146</td>\n",
       "      <td>1</td>\n",
       "      <td>0</td>\n",
       "      <td>0</td>\n",
       "      <td>147</td>\n",
       "      <td>285</td>\n",
       "      <td>432</td>\n",
       "      <td>+</td>\n",
       "      <td>NaN</td>\n",
       "      <td>sk__Archaea;k__;p__Euryarchaeota;c__;o__;f__;g...</td>\n",
       "      <td>NaN</td>\n",
       "    </tr>\n",
       "    <tr>\n",
       "      <th>3</th>\n",
       "      <td>SRR5788044.10249364-NS500496-106-HF3LCBGXX:2:1...</td>\n",
       "      <td>AACY020187844.576.1995</td>\n",
       "      <td>114</td>\n",
       "      <td>0.991379</td>\n",
       "      <td>115</td>\n",
       "      <td>1</td>\n",
       "      <td>0</td>\n",
       "      <td>0</td>\n",
       "      <td>116</td>\n",
       "      <td>1245</td>\n",
       "      <td>1361</td>\n",
       "      <td>+</td>\n",
       "      <td>NaN</td>\n",
       "      <td>sk__Archaea;k__;p__Euryarchaeota;c__;o__;f__;g...</td>\n",
       "      <td>NaN</td>\n",
       "    </tr>\n",
       "    <tr>\n",
       "      <th>4</th>\n",
       "      <td>SRR5788044.10249364-NS500496-106-HF3LCBGXX:2:1...</td>\n",
       "      <td>AACY020187844.576.1995</td>\n",
       "      <td>113</td>\n",
       "      <td>1.000000</td>\n",
       "      <td>113</td>\n",
       "      <td>0</td>\n",
       "      <td>0</td>\n",
       "      <td>1</td>\n",
       "      <td>114</td>\n",
       "      <td>1244</td>\n",
       "      <td>1357</td>\n",
       "      <td>+</td>\n",
       "      <td>NaN</td>\n",
       "      <td>sk__Archaea;k__;p__Euryarchaeota;c__;o__;f__;g...</td>\n",
       "      <td>NaN</td>\n",
       "    </tr>\n",
       "    <tr>\n",
       "      <th>...</th>\n",
       "      <td>...</td>\n",
       "      <td>...</td>\n",
       "      <td>...</td>\n",
       "      <td>...</td>\n",
       "      <td>...</td>\n",
       "      <td>...</td>\n",
       "      <td>...</td>\n",
       "      <td>...</td>\n",
       "      <td>...</td>\n",
       "      <td>...</td>\n",
       "      <td>...</td>\n",
       "      <td>...</td>\n",
       "      <td>...</td>\n",
       "      <td>...</td>\n",
       "      <td>...</td>\n",
       "    </tr>\n",
       "    <tr>\n",
       "      <th>27290</th>\n",
       "      <td>SRR5788044.9932850-NS500496-106-HF3LCBGXX:2:13...</td>\n",
       "      <td>FN669511.1.1796</td>\n",
       "      <td>131</td>\n",
       "      <td>1.000000</td>\n",
       "      <td>131</td>\n",
       "      <td>0</td>\n",
       "      <td>0</td>\n",
       "      <td>0</td>\n",
       "      <td>131</td>\n",
       "      <td>510</td>\n",
       "      <td>641</td>\n",
       "      <td>+</td>\n",
       "      <td>NaN</td>\n",
       "      <td>sk__Eukaryota;k__;p__;c__Dinophyceae</td>\n",
       "      <td>NaN</td>\n",
       "    </tr>\n",
       "    <tr>\n",
       "      <th>27291</th>\n",
       "      <td>SRR5788044.9932850-NS500496-106-HF3LCBGXX:2:13...</td>\n",
       "      <td>HQ438164.1.1618</td>\n",
       "      <td>126</td>\n",
       "      <td>0.977273</td>\n",
       "      <td>129</td>\n",
       "      <td>3</td>\n",
       "      <td>0</td>\n",
       "      <td>0</td>\n",
       "      <td>132</td>\n",
       "      <td>614</td>\n",
       "      <td>746</td>\n",
       "      <td>+</td>\n",
       "      <td>NaN</td>\n",
       "      <td>sk__Eukaryota;k__;p__;c__Dinophyceae</td>\n",
       "      <td>NaN</td>\n",
       "    </tr>\n",
       "    <tr>\n",
       "      <th>27292</th>\n",
       "      <td>SRR5788044.9948620-NS500496-106-HF3LCBGXX:2:13...</td>\n",
       "      <td>JX188316.1.1752</td>\n",
       "      <td>144</td>\n",
       "      <td>1.000000</td>\n",
       "      <td>144</td>\n",
       "      <td>0</td>\n",
       "      <td>0</td>\n",
       "      <td>0</td>\n",
       "      <td>144</td>\n",
       "      <td>21</td>\n",
       "      <td>165</td>\n",
       "      <td>+</td>\n",
       "      <td>NaN</td>\n",
       "      <td>sk__Eukaryota;k__;p__;c__;o__;f__;g__;s__</td>\n",
       "      <td>NaN</td>\n",
       "    </tr>\n",
       "    <tr>\n",
       "      <th>27293</th>\n",
       "      <td>SRR5788044.9950945-NS500496-106-HF3LCBGXX:2:13...</td>\n",
       "      <td>GU819708.1.1234</td>\n",
       "      <td>73</td>\n",
       "      <td>0.796748</td>\n",
       "      <td>98</td>\n",
       "      <td>25</td>\n",
       "      <td>0</td>\n",
       "      <td>0</td>\n",
       "      <td>123</td>\n",
       "      <td>511</td>\n",
       "      <td>634</td>\n",
       "      <td>+</td>\n",
       "      <td>NaN</td>\n",
       "      <td>sk__Eukaryota;k__</td>\n",
       "      <td>NaN</td>\n",
       "    </tr>\n",
       "    <tr>\n",
       "      <th>27294</th>\n",
       "      <td>SRR5788044.9972894-NS500496-106-HF3LCBGXX:2:13...</td>\n",
       "      <td>KC582919.1.1797</td>\n",
       "      <td>142</td>\n",
       "      <td>1.000000</td>\n",
       "      <td>142</td>\n",
       "      <td>0</td>\n",
       "      <td>0</td>\n",
       "      <td>0</td>\n",
       "      <td>142</td>\n",
       "      <td>39</td>\n",
       "      <td>181</td>\n",
       "      <td>+</td>\n",
       "      <td>NaN</td>\n",
       "      <td>sk__Eukaryota;k__;p__;c__Dinophyceae;o__Syndin...</td>\n",
       "      <td>NaN</td>\n",
       "    </tr>\n",
       "  </tbody>\n",
       "</table>\n",
       "<p>27295 rows × 15 columns</p>\n",
       "</div>"
      ],
      "text/plain": [
       "                                                  #query  \\\n",
       "0      SRR5788044.10095561-NS500496-106-HF3LCBGXX:2:1...   \n",
       "1      SRR5788044.10101861-NS500496-106-HF3LCBGXX:2:1...   \n",
       "2      SRR5788044.10217657-NS500496-106-HF3LCBGXX:2:1...   \n",
       "3      SRR5788044.10249364-NS500496-106-HF3LCBGXX:2:1...   \n",
       "4      SRR5788044.10249364-NS500496-106-HF3LCBGXX:2:1...   \n",
       "...                                                  ...   \n",
       "27290  SRR5788044.9932850-NS500496-106-HF3LCBGXX:2:13...   \n",
       "27291  SRR5788044.9932850-NS500496-106-HF3LCBGXX:2:13...   \n",
       "27292  SRR5788044.9948620-NS500496-106-HF3LCBGXX:2:13...   \n",
       "27293  SRR5788044.9950945-NS500496-106-HF3LCBGXX:2:13...   \n",
       "27294  SRR5788044.9972894-NS500496-106-HF3LCBGXX:2:13...   \n",
       "\n",
       "                        dbhit  bitscore  identity  matches  mismatches  gaps  \\\n",
       "0              JX281272.1.902       231  0.983264      235           4     0   \n",
       "1              HQ529831.1.913       178  1.000000      178           0     0   \n",
       "2              HQ529796.1.902       145  0.993197      146           1     0   \n",
       "3      AACY020187844.576.1995       114  0.991379      115           1     0   \n",
       "4      AACY020187844.576.1995       113  1.000000      113           0     0   \n",
       "...                       ...       ...       ...      ...         ...   ...   \n",
       "27290         FN669511.1.1796       131  1.000000      131           0     0   \n",
       "27291         HQ438164.1.1618       126  0.977273      129           3     0   \n",
       "27292         JX188316.1.1752       144  1.000000      144           0     0   \n",
       "27293         GU819708.1.1234        73  0.796748       98          25     0   \n",
       "27294         KC582919.1.1797       142  1.000000      142           0     0   \n",
       "\n",
       "       query_start  query_end  dbhit_start  dbhit_end strand  Unnamed: 12  \\\n",
       "0                0        239           82        321      +          NaN   \n",
       "1                0        178           37        215      +          NaN   \n",
       "2                0        147          285        432      +          NaN   \n",
       "3                0        116         1245       1361      +          NaN   \n",
       "4                1        114         1244       1357      +          NaN   \n",
       "...            ...        ...          ...        ...    ...          ...   \n",
       "27290            0        131          510        641      +          NaN   \n",
       "27291            0        132          614        746      +          NaN   \n",
       "27292            0        144           21        165      +          NaN   \n",
       "27293            0        123          511        634      +          NaN   \n",
       "27294            0        142           39        181      +          NaN   \n",
       "\n",
       "                                                   SILVA  Unnamed: 14  \n",
       "0      sk__Archaea;k__;p__Euryarchaeota;c__;o__;f__;g...          NaN  \n",
       "1      sk__Archaea;k__;p__Euryarchaeota;c__;o__;f__;g...          NaN  \n",
       "2      sk__Archaea;k__;p__Euryarchaeota;c__;o__;f__;g...          NaN  \n",
       "3      sk__Archaea;k__;p__Euryarchaeota;c__;o__;f__;g...          NaN  \n",
       "4      sk__Archaea;k__;p__Euryarchaeota;c__;o__;f__;g...          NaN  \n",
       "...                                                  ...          ...  \n",
       "27290               sk__Eukaryota;k__;p__;c__Dinophyceae          NaN  \n",
       "27291               sk__Eukaryota;k__;p__;c__Dinophyceae          NaN  \n",
       "27292          sk__Eukaryota;k__;p__;c__;o__;f__;g__;s__          NaN  \n",
       "27293                                  sk__Eukaryota;k__          NaN  \n",
       "27294  sk__Eukaryota;k__;p__;c__Dinophyceae;o__Syndin...          NaN  \n",
       "\n",
       "[27295 rows x 15 columns]"
      ]
     },
     "execution_count": 16,
     "metadata": {},
     "output_type": "execute_result"
    }
   ],
   "source": [
    "mseq = mseq_files[0].read()\n",
    "mseq"
   ]
  },
  {
   "cell_type": "code",
   "execution_count": 17,
   "metadata": {},
   "outputs": [
    {
     "name": "stdout",
     "output_type": "stream",
     "text": [
      "<class 'pandas.core.frame.DataFrame'>\n",
      "RangeIndex: 27295 entries, 0 to 27294\n",
      "Data columns (total 15 columns):\n",
      " #   Column       Non-Null Count  Dtype  \n",
      "---  ------       --------------  -----  \n",
      " 0   #query       27295 non-null  object \n",
      " 1   dbhit        27295 non-null  object \n",
      " 2   bitscore     27295 non-null  int64  \n",
      " 3   identity     27295 non-null  float64\n",
      " 4   matches      27295 non-null  int64  \n",
      " 5   mismatches   27295 non-null  int64  \n",
      " 6   gaps         27295 non-null  int64  \n",
      " 7   query_start  27295 non-null  int64  \n",
      " 8   query_end    27295 non-null  int64  \n",
      " 9   dbhit_start  27295 non-null  int64  \n",
      " 10  dbhit_end    27295 non-null  int64  \n",
      " 11  strand       27295 non-null  object \n",
      " 12  Unnamed: 12  0 non-null      float64\n",
      " 13  SILVA        27295 non-null  object \n",
      " 14  Unnamed: 14  0 non-null      float64\n",
      "dtypes: float64(3), int64(8), object(4)\n",
      "memory usage: 3.1+ MB\n"
     ]
    }
   ],
   "source": [
    "mseq.info()"
   ]
  },
  {
   "cell_type": "code",
   "execution_count": 18,
   "metadata": {},
   "outputs": [
    {
     "name": "stdout",
     "output_type": "stream",
     "text": [
      "<class 'pandas.core.frame.DataFrame'>\n",
      "RangeIndex: 328 entries, 0 to 327\n",
      "Data columns (total 3 columns):\n",
      " #   Column      Non-Null Count  Dtype  \n",
      "---  ------      --------------  -----  \n",
      " 0   # OTU ID    328 non-null    int64  \n",
      " 1   SRR5788044  328 non-null    float64\n",
      " 2   taxonomy    328 non-null    object \n",
      "dtypes: float64(1), int64(1), object(1)\n",
      "memory usage: 7.8+ KB\n"
     ]
    }
   ],
   "source": [
    "otu = tsv_files[0].read()\n",
    "otu.info()"
   ]
  },
  {
   "attachments": {},
   "cell_type": "markdown",
   "metadata": {},
   "source": [
    "So we go from 27,297 reads in fasta to 27,295 hits in the mseq file to just 328 OTUs.\n",
    "\n",
    "The same number of distinct taxonomy values in the mseq file as well as the OTU suggests that the OTUs correspond to all distinct taxonomic assignments regardless of sequence similarity. All reads with assignment Bacteria for example are collapsed into a single OTU."
   ]
  },
  {
   "cell_type": "code",
   "execution_count": 19,
   "metadata": {},
   "outputs": [
    {
     "data": {
      "text/plain": [
       "328"
      ]
     },
     "execution_count": 19,
     "metadata": {},
     "output_type": "execute_result"
    }
   ],
   "source": [
    "pd.Series([clean_taxonomy_string(tax) for tax in otu[\"taxonomy\"]]).nunique()"
   ]
  },
  {
   "cell_type": "code",
   "execution_count": 20,
   "metadata": {},
   "outputs": [
    {
     "data": {
      "text/plain": [
       "328"
      ]
     },
     "execution_count": 20,
     "metadata": {},
     "output_type": "execute_result"
    }
   ],
   "source": [
    "pd.Series([clean_taxonomy_string(tax) for tax in mseq[\"SILVA\"]]).nunique()"
   ]
  },
  {
   "cell_type": "code",
   "execution_count": 21,
   "metadata": {},
   "outputs": [
    {
     "data": {
      "text/html": [
       "<div>\n",
       "<style scoped>\n",
       "    .dataframe tbody tr th:only-of-type {\n",
       "        vertical-align: middle;\n",
       "    }\n",
       "\n",
       "    .dataframe tbody tr th {\n",
       "        vertical-align: top;\n",
       "    }\n",
       "\n",
       "    .dataframe thead th {\n",
       "        text-align: right;\n",
       "    }\n",
       "</style>\n",
       "<table border=\"1\" class=\"dataframe\">\n",
       "  <thead>\n",
       "    <tr style=\"text-align: right;\">\n",
       "      <th></th>\n",
       "      <th>#query</th>\n",
       "      <th>dbhit</th>\n",
       "      <th>bitscore</th>\n",
       "      <th>identity</th>\n",
       "      <th>matches</th>\n",
       "      <th>mismatches</th>\n",
       "      <th>gaps</th>\n",
       "      <th>query_start</th>\n",
       "      <th>query_end</th>\n",
       "      <th>dbhit_start</th>\n",
       "      <th>dbhit_end</th>\n",
       "      <th>strand</th>\n",
       "      <th>Unnamed: 12</th>\n",
       "      <th>SILVA</th>\n",
       "      <th>Unnamed: 14</th>\n",
       "    </tr>\n",
       "  </thead>\n",
       "  <tbody>\n",
       "    <tr>\n",
       "      <th>751</th>\n",
       "      <td>SRR5788044.10002615-NS500496-106-HF3LCBGXX:2:1...</td>\n",
       "      <td>KX426402.1.1486</td>\n",
       "      <td>174</td>\n",
       "      <td>1.000000</td>\n",
       "      <td>174</td>\n",
       "      <td>0</td>\n",
       "      <td>0</td>\n",
       "      <td>0</td>\n",
       "      <td>174</td>\n",
       "      <td>1197</td>\n",
       "      <td>1371</td>\n",
       "      <td>+</td>\n",
       "      <td>NaN</td>\n",
       "      <td>sk__Bacteria;k__</td>\n",
       "      <td>NaN</td>\n",
       "    </tr>\n",
       "    <tr>\n",
       "      <th>761</th>\n",
       "      <td>SRR5788044.10009855-NS500496-106-HF3LCBGXX:2:1...</td>\n",
       "      <td>EU802338.1.1516</td>\n",
       "      <td>238</td>\n",
       "      <td>1.000000</td>\n",
       "      <td>238</td>\n",
       "      <td>0</td>\n",
       "      <td>0</td>\n",
       "      <td>0</td>\n",
       "      <td>238</td>\n",
       "      <td>1006</td>\n",
       "      <td>1244</td>\n",
       "      <td>+</td>\n",
       "      <td>NaN</td>\n",
       "      <td>sk__Bacteria;k__</td>\n",
       "      <td>NaN</td>\n",
       "    </tr>\n",
       "    <tr>\n",
       "      <th>774</th>\n",
       "      <td>SRR5788044.10023731-NS500496-106-HF3LCBGXX:2:1...</td>\n",
       "      <td>EU802327.1.1487</td>\n",
       "      <td>259</td>\n",
       "      <td>1.000000</td>\n",
       "      <td>259</td>\n",
       "      <td>0</td>\n",
       "      <td>0</td>\n",
       "      <td>0</td>\n",
       "      <td>259</td>\n",
       "      <td>1154</td>\n",
       "      <td>1413</td>\n",
       "      <td>+</td>\n",
       "      <td>NaN</td>\n",
       "      <td>sk__Bacteria;k__</td>\n",
       "      <td>NaN</td>\n",
       "    </tr>\n",
       "    <tr>\n",
       "      <th>777</th>\n",
       "      <td>SRR5788044.10028038-NS500496-106-HF3LCBGXX:2:1...</td>\n",
       "      <td>KC003366.1.1331</td>\n",
       "      <td>235</td>\n",
       "      <td>0.995781</td>\n",
       "      <td>236</td>\n",
       "      <td>1</td>\n",
       "      <td>0</td>\n",
       "      <td>0</td>\n",
       "      <td>237</td>\n",
       "      <td>166</td>\n",
       "      <td>403</td>\n",
       "      <td>+</td>\n",
       "      <td>NaN</td>\n",
       "      <td>sk__Bacteria;k__</td>\n",
       "      <td>NaN</td>\n",
       "    </tr>\n",
       "    <tr>\n",
       "      <th>800</th>\n",
       "      <td>SRR5788044.10057198-NS500496-106-HF3LCBGXX:2:1...</td>\n",
       "      <td>EU803059.1.1291</td>\n",
       "      <td>146</td>\n",
       "      <td>1.000000</td>\n",
       "      <td>146</td>\n",
       "      <td>0</td>\n",
       "      <td>0</td>\n",
       "      <td>0</td>\n",
       "      <td>146</td>\n",
       "      <td>927</td>\n",
       "      <td>1073</td>\n",
       "      <td>+</td>\n",
       "      <td>NaN</td>\n",
       "      <td>sk__Bacteria;k__</td>\n",
       "      <td>NaN</td>\n",
       "    </tr>\n",
       "    <tr>\n",
       "      <th>...</th>\n",
       "      <td>...</td>\n",
       "      <td>...</td>\n",
       "      <td>...</td>\n",
       "      <td>...</td>\n",
       "      <td>...</td>\n",
       "      <td>...</td>\n",
       "      <td>...</td>\n",
       "      <td>...</td>\n",
       "      <td>...</td>\n",
       "      <td>...</td>\n",
       "      <td>...</td>\n",
       "      <td>...</td>\n",
       "      <td>...</td>\n",
       "      <td>...</td>\n",
       "      <td>...</td>\n",
       "    </tr>\n",
       "    <tr>\n",
       "      <th>24966</th>\n",
       "      <td>SRR5788044.9953649-NS500496-106-HF3LCBGXX:2:13...</td>\n",
       "      <td>JQ670970.1.1389</td>\n",
       "      <td>223</td>\n",
       "      <td>0.995556</td>\n",
       "      <td>224</td>\n",
       "      <td>1</td>\n",
       "      <td>0</td>\n",
       "      <td>0</td>\n",
       "      <td>225</td>\n",
       "      <td>839</td>\n",
       "      <td>1064</td>\n",
       "      <td>+</td>\n",
       "      <td>NaN</td>\n",
       "      <td>sk__Bacteria;k__</td>\n",
       "      <td>NaN</td>\n",
       "    </tr>\n",
       "    <tr>\n",
       "      <th>24992</th>\n",
       "      <td>SRR5788044.9976658-NS500496-106-HF3LCBGXX:2:13...</td>\n",
       "      <td>CP000097.1777273.1778730</td>\n",
       "      <td>252</td>\n",
       "      <td>0.988372</td>\n",
       "      <td>255</td>\n",
       "      <td>3</td>\n",
       "      <td>0</td>\n",
       "      <td>0</td>\n",
       "      <td>258</td>\n",
       "      <td>8</td>\n",
       "      <td>266</td>\n",
       "      <td>+</td>\n",
       "      <td>NaN</td>\n",
       "      <td>sk__Bacteria;k__</td>\n",
       "      <td>NaN</td>\n",
       "    </tr>\n",
       "    <tr>\n",
       "      <th>24997</th>\n",
       "      <td>SRR5788044.9984844-NS500496-106-HF3LCBGXX:2:13...</td>\n",
       "      <td>EU803059.1.1291</td>\n",
       "      <td>152</td>\n",
       "      <td>1.000000</td>\n",
       "      <td>152</td>\n",
       "      <td>0</td>\n",
       "      <td>0</td>\n",
       "      <td>0</td>\n",
       "      <td>152</td>\n",
       "      <td>892</td>\n",
       "      <td>1044</td>\n",
       "      <td>+</td>\n",
       "      <td>NaN</td>\n",
       "      <td>sk__Bacteria;k__</td>\n",
       "      <td>NaN</td>\n",
       "    </tr>\n",
       "    <tr>\n",
       "      <th>25004</th>\n",
       "      <td>SRR5788044.9997731-NS500496-106-HF3LCBGXX:2:13...</td>\n",
       "      <td>KU578488.1.1380</td>\n",
       "      <td>112</td>\n",
       "      <td>1.000000</td>\n",
       "      <td>112</td>\n",
       "      <td>0</td>\n",
       "      <td>0</td>\n",
       "      <td>0</td>\n",
       "      <td>112</td>\n",
       "      <td>1182</td>\n",
       "      <td>1294</td>\n",
       "      <td>+</td>\n",
       "      <td>NaN</td>\n",
       "      <td>sk__Bacteria;k__</td>\n",
       "      <td>NaN</td>\n",
       "    </tr>\n",
       "    <tr>\n",
       "      <th>25005</th>\n",
       "      <td>SRR5788044.9997731-NS500496-106-HF3LCBGXX:2:13...</td>\n",
       "      <td>KU578488.1.1380</td>\n",
       "      <td>113</td>\n",
       "      <td>1.000000</td>\n",
       "      <td>113</td>\n",
       "      <td>0</td>\n",
       "      <td>0</td>\n",
       "      <td>0</td>\n",
       "      <td>113</td>\n",
       "      <td>1182</td>\n",
       "      <td>1295</td>\n",
       "      <td>+</td>\n",
       "      <td>NaN</td>\n",
       "      <td>sk__Bacteria;k__</td>\n",
       "      <td>NaN</td>\n",
       "    </tr>\n",
       "  </tbody>\n",
       "</table>\n",
       "<p>3269 rows × 15 columns</p>\n",
       "</div>"
      ],
      "text/plain": [
       "                                                  #query  \\\n",
       "751    SRR5788044.10002615-NS500496-106-HF3LCBGXX:2:1...   \n",
       "761    SRR5788044.10009855-NS500496-106-HF3LCBGXX:2:1...   \n",
       "774    SRR5788044.10023731-NS500496-106-HF3LCBGXX:2:1...   \n",
       "777    SRR5788044.10028038-NS500496-106-HF3LCBGXX:2:1...   \n",
       "800    SRR5788044.10057198-NS500496-106-HF3LCBGXX:2:1...   \n",
       "...                                                  ...   \n",
       "24966  SRR5788044.9953649-NS500496-106-HF3LCBGXX:2:13...   \n",
       "24992  SRR5788044.9976658-NS500496-106-HF3LCBGXX:2:13...   \n",
       "24997  SRR5788044.9984844-NS500496-106-HF3LCBGXX:2:13...   \n",
       "25004  SRR5788044.9997731-NS500496-106-HF3LCBGXX:2:13...   \n",
       "25005  SRR5788044.9997731-NS500496-106-HF3LCBGXX:2:13...   \n",
       "\n",
       "                          dbhit  bitscore  identity  matches  mismatches  \\\n",
       "751             KX426402.1.1486       174  1.000000      174           0   \n",
       "761             EU802338.1.1516       238  1.000000      238           0   \n",
       "774             EU802327.1.1487       259  1.000000      259           0   \n",
       "777             KC003366.1.1331       235  0.995781      236           1   \n",
       "800             EU803059.1.1291       146  1.000000      146           0   \n",
       "...                         ...       ...       ...      ...         ...   \n",
       "24966           JQ670970.1.1389       223  0.995556      224           1   \n",
       "24992  CP000097.1777273.1778730       252  0.988372      255           3   \n",
       "24997           EU803059.1.1291       152  1.000000      152           0   \n",
       "25004           KU578488.1.1380       112  1.000000      112           0   \n",
       "25005           KU578488.1.1380       113  1.000000      113           0   \n",
       "\n",
       "       gaps  query_start  query_end  dbhit_start  dbhit_end strand  \\\n",
       "751       0            0        174         1197       1371      +   \n",
       "761       0            0        238         1006       1244      +   \n",
       "774       0            0        259         1154       1413      +   \n",
       "777       0            0        237          166        403      +   \n",
       "800       0            0        146          927       1073      +   \n",
       "...     ...          ...        ...          ...        ...    ...   \n",
       "24966     0            0        225          839       1064      +   \n",
       "24992     0            0        258            8        266      +   \n",
       "24997     0            0        152          892       1044      +   \n",
       "25004     0            0        112         1182       1294      +   \n",
       "25005     0            0        113         1182       1295      +   \n",
       "\n",
       "       Unnamed: 12             SILVA  Unnamed: 14  \n",
       "751            NaN  sk__Bacteria;k__          NaN  \n",
       "761            NaN  sk__Bacteria;k__          NaN  \n",
       "774            NaN  sk__Bacteria;k__          NaN  \n",
       "777            NaN  sk__Bacteria;k__          NaN  \n",
       "800            NaN  sk__Bacteria;k__          NaN  \n",
       "...            ...               ...          ...  \n",
       "24966          NaN  sk__Bacteria;k__          NaN  \n",
       "24992          NaN  sk__Bacteria;k__          NaN  \n",
       "24997          NaN  sk__Bacteria;k__          NaN  \n",
       "25004          NaN  sk__Bacteria;k__          NaN  \n",
       "25005          NaN  sk__Bacteria;k__          NaN  \n",
       "\n",
       "[3269 rows x 15 columns]"
      ]
     },
     "execution_count": 21,
     "metadata": {},
     "output_type": "execute_result"
    }
   ],
   "source": [
    "mseq_bacteria = mseq.loc[mseq[\"SILVA\"].apply(lambda x: clean_taxonomy_string(x)) == \"sk__Bacteria\"]\n",
    "mseq_bacteria"
   ]
  },
  {
   "cell_type": "code",
   "execution_count": 22,
   "metadata": {},
   "outputs": [
    {
     "data": {
      "text/html": [
       "<div>\n",
       "<style scoped>\n",
       "    .dataframe tbody tr th:only-of-type {\n",
       "        vertical-align: middle;\n",
       "    }\n",
       "\n",
       "    .dataframe tbody tr th {\n",
       "        vertical-align: top;\n",
       "    }\n",
       "\n",
       "    .dataframe thead th {\n",
       "        text-align: right;\n",
       "    }\n",
       "</style>\n",
       "<table border=\"1\" class=\"dataframe\">\n",
       "  <thead>\n",
       "    <tr style=\"text-align: right;\">\n",
       "      <th></th>\n",
       "      <th># OTU ID</th>\n",
       "      <th>SRR5788044</th>\n",
       "      <th>taxonomy</th>\n",
       "    </tr>\n",
       "  </thead>\n",
       "  <tbody>\n",
       "    <tr>\n",
       "      <th>6</th>\n",
       "      <td>103181</td>\n",
       "      <td>3269.0</td>\n",
       "      <td>sk__Bacteria</td>\n",
       "    </tr>\n",
       "  </tbody>\n",
       "</table>\n",
       "</div>"
      ],
      "text/plain": [
       "   # OTU ID  SRR5788044      taxonomy\n",
       "6    103181      3269.0  sk__Bacteria"
      ]
     },
     "execution_count": 22,
     "metadata": {},
     "output_type": "execute_result"
    }
   ],
   "source": [
    "otu_bacteria = otu.loc[otu[\"taxonomy\"].apply(lambda x: clean_taxonomy_string(x)) == \"sk__Bacteria\"]\n",
    "otu_bacteria"
   ]
  },
  {
   "attachments": {},
   "cell_type": "markdown",
   "metadata": {},
   "source": [
    "Grouping by taxonomy appears to be the approach currently used in [mgnify-to-dwc](https://github.com/gbif/mgnify-to-dwc), see occurrences for this sample here: <https://www.gbif.org/occurrence/search?dataset_key=f6da16a0-ad5a-4f47-a347-aa6281de3d0d&advanced=1&event_id=MGYA00593805>"
   ]
  },
  {
   "attachments": {},
   "cell_type": "markdown",
   "metadata": {},
   "source": [
    "## Alternative approach\n",
    "\n",
    "Instead of relying on the OTU table as downloaded from MGnify, let's try grouping sequences by SILVA hit."
   ]
  },
  {
   "cell_type": "code",
   "execution_count": 23,
   "metadata": {},
   "outputs": [
    {
     "data": {
      "text/plain": [
       "<Study https://www.ebi.ac.uk/metagenomics/studies/MGYS00005780 >"
      ]
     },
     "execution_count": 23,
     "metadata": {},
     "output_type": "execute_result"
    }
   ],
   "source": [
    "study = get_superstudy_studies(\"atlanteco\")[0]\n",
    "study\n"
   ]
  },
  {
   "cell_type": "code",
   "execution_count": 24,
   "metadata": {},
   "outputs": [
    {
     "data": {
      "text/plain": [
       "<Sample https://www.ebi.ac.uk/metagenomics/samples/SRS2329696 >"
      ]
     },
     "execution_count": 24,
     "metadata": {},
     "output_type": "execute_result"
    }
   ],
   "source": [
    "sample = study.get_samples(max_results=1)[0]\n",
    "sample"
   ]
  },
  {
   "cell_type": "code",
   "execution_count": 25,
   "metadata": {},
   "outputs": [
    {
     "data": {
      "text/plain": [
       "<Run https://www.ebi.ac.uk/metagenomics/runs/SRR5788044 >"
      ]
     },
     "execution_count": 25,
     "metadata": {},
     "output_type": "execute_result"
    }
   ],
   "source": [
    "run = sample.get_runs(max_results=1)[0]\n",
    "run"
   ]
  },
  {
   "cell_type": "code",
   "execution_count": 26,
   "metadata": {},
   "outputs": [
    {
     "data": {
      "text/plain": [
       "<Analysis https://www.ebi.ac.uk/metagenomics/analyses/MGYA00463299 >"
      ]
     },
     "execution_count": 26,
     "metadata": {},
     "output_type": "execute_result"
    }
   ],
   "source": [
    "analysis = run.get_analyses(max_results=1)[0]\n",
    "analysis"
   ]
  },
  {
   "cell_type": "code",
   "execution_count": 27,
   "metadata": {},
   "outputs": [],
   "source": [
    "marker = \"LSU\"\n",
    "downloads = analysis.get_downloads()\n",
    "fasta_files = [download for download in downloads if isinstance(download, FastaDownload) and download.marker == marker]\n",
    "mseq_files = [download for download in downloads if isinstance(download, MseqDownload) and download.marker == marker]\n",
    "fasta = fasta_files[0].read_pandas()\n",
    "mseq = mseq_files[0].read()"
   ]
  },
  {
   "attachments": {},
   "cell_type": "markdown",
   "metadata": {},
   "source": [
    "Merge fasta and mseq tables:"
   ]
  },
  {
   "cell_type": "code",
   "execution_count": 28,
   "metadata": {},
   "outputs": [],
   "source": [
    "df = fasta.merge(mseq.rename({\"#query\": \"reference\"}, axis=1), how=\"left\", on=\"reference\")"
   ]
  },
  {
   "cell_type": "markdown",
   "metadata": {},
   "source": [
    "First clean taxonomy strings by removing empty ranks:"
   ]
  },
  {
   "cell_type": "code",
   "execution_count": 29,
   "metadata": {},
   "outputs": [],
   "source": [
    "df[\"SILVA\"] = [clean_taxonomy_string(tax) for tax in df[\"SILVA\"]]"
   ]
  },
  {
   "attachments": {},
   "cell_type": "markdown",
   "metadata": {},
   "source": [
    "Let's take a look at the number of distinct sequences, taxonomy strings, and DB hits:"
   ]
  },
  {
   "cell_type": "code",
   "execution_count": 30,
   "metadata": {},
   "outputs": [
    {
     "data": {
      "text/plain": [
       "42037"
      ]
     },
     "execution_count": 30,
     "metadata": {},
     "output_type": "execute_result"
    }
   ],
   "source": [
    "df[\"sequence\"].nunique()"
   ]
  },
  {
   "cell_type": "code",
   "execution_count": 31,
   "metadata": {},
   "outputs": [
    {
     "data": {
      "text/plain": [
       "453"
      ]
     },
     "execution_count": 31,
     "metadata": {},
     "output_type": "execute_result"
    }
   ],
   "source": [
    "df[\"SILVA\"].nunique()"
   ]
  },
  {
   "cell_type": "code",
   "execution_count": 32,
   "metadata": {},
   "outputs": [
    {
     "data": {
      "text/plain": [
       "3184"
      ]
     },
     "execution_count": 32,
     "metadata": {},
     "output_type": "execute_result"
    }
   ],
   "source": [
    "df[\"dbhit\"].nunique()"
   ]
  },
  {
   "attachments": {},
   "cell_type": "markdown",
   "metadata": {},
   "source": [
    "So an alternative approach would be to group sequences by DB hit, and pick a random representative sequence."
   ]
  }
 ],
 "metadata": {
  "kernelspec": {
   "display_name": "Python 3",
   "language": "python",
   "name": "python3"
  },
  "language_info": {
   "codemirror_mode": {
    "name": "ipython",
    "version": 3
   },
   "file_extension": ".py",
   "mimetype": "text/x-python",
   "name": "python",
   "nbconvert_exporter": "python",
   "pygments_lexer": "ipython3",
   "version": "3.9.6"
  },
  "orig_nbformat": 4,
  "vscode": {
   "interpreter": {
    "hash": "314a97c846296f63d0e4efa7147ce547b99d51e3f641193b55b463cff9afbb5e"
   }
  }
 },
 "nbformat": 4,
 "nbformat_minor": 2
}
