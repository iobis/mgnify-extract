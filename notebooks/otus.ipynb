{
 "cells": [
  {
   "attachments": {},
   "cell_type": "markdown",
   "metadata": {},
   "source": [
    "# MGnify to Darwin Core export notes\n",
    "## What do OTUs represent in the MGnify pipeline?\n",
    "\n",
    "Get all SSU downloads for analysis `MGYA00593805`:"
   ]
  },
  {
   "cell_type": "code",
   "execution_count": 42,
   "metadata": {},
   "outputs": [
    {
     "data": {
      "text/plain": [
       "<Analysis https://www.ebi.ac.uk/metagenomics/analyses/MGYA00593805 >"
      ]
     },
     "execution_count": 42,
     "metadata": {},
     "output_type": "execute_result"
    }
   ],
   "source": [
    "import pandas as pd\n",
    "from mgnifyextract.analyses import get_analysis\n",
    "from mgnifyextract.downloads import FastaDownload, MseqDownload, TsvDownload\n",
    "from mgnifyextract.studies import get_superstudy_studies\n",
    "from mgnifyextract.util import clean_taxonomy_string\n",
    "\n",
    "analysis = get_analysis(\"MGYA00593805\")\n",
    "analysis"
   ]
  },
  {
   "cell_type": "code",
   "execution_count": 3,
   "metadata": {},
   "outputs": [],
   "source": [
    "downloads = analysis.get_downloads()\n",
    "\n",
    "marker = \"SSU\"\n",
    "\n",
    "fasta_files = [download for download in downloads if isinstance(download, FastaDownload) and download.marker == marker]\n",
    "mseq_files = [download for download in downloads if isinstance(download, MseqDownload) and download.marker == marker]\n",
    "tsv_files = [download for download in downloads if isinstance(download, TsvDownload) and download.marker == marker]"
   ]
  },
  {
   "attachments": {},
   "cell_type": "markdown",
   "metadata": {},
   "source": [
    "Let's take a look at the number of rows in the fasta, mseq, and OTU files."
   ]
  },
  {
   "cell_type": "code",
   "execution_count": 47,
   "metadata": {},
   "outputs": [
    {
     "data": {
      "text/html": [
       "<div>\n",
       "<style scoped>\n",
       "    .dataframe tbody tr th:only-of-type {\n",
       "        vertical-align: middle;\n",
       "    }\n",
       "\n",
       "    .dataframe tbody tr th {\n",
       "        vertical-align: top;\n",
       "    }\n",
       "\n",
       "    .dataframe thead th {\n",
       "        text-align: right;\n",
       "    }\n",
       "</style>\n",
       "<table border=\"1\" class=\"dataframe\">\n",
       "  <thead>\n",
       "    <tr style=\"text-align: right;\">\n",
       "      <th></th>\n",
       "      <th>reference</th>\n",
       "      <th>sequence</th>\n",
       "    </tr>\n",
       "  </thead>\n",
       "  <tbody>\n",
       "    <tr>\n",
       "      <th>0</th>\n",
       "      <td>SRR5788044.10000144-NS500496-106-HF3LCBGXX:2:1...</td>\n",
       "      <td>TTTGAAGTGGTGGCGTCAGCTGCCATGGAGTCGCCAGTGAAATACC...</td>\n",
       "    </tr>\n",
       "    <tr>\n",
       "      <th>1</th>\n",
       "      <td>SRR5788044.1000402-NS500496-106-HF3LCBGXX:1:11...</td>\n",
       "      <td>CGGCAGCGAAGTTGGTGATGTCATGCTTCCAAGAAAAGCCCTATAC...</td>\n",
       "    </tr>\n",
       "    <tr>\n",
       "      <th>2</th>\n",
       "      <td>SRR5788044.10005124-NS500496-106-HF3LCBGXX:2:1...</td>\n",
       "      <td>TGGATGACTTGTGGTAAGGGGTGAAAGGCCAACCAAATTCGTAGAT...</td>\n",
       "    </tr>\n",
       "    <tr>\n",
       "      <th>3</th>\n",
       "      <td>SRR5788044.10005627-NS500496-106-HF3LCBGXX:2:1...</td>\n",
       "      <td>ACTTATACAGCTAGGAGGTTGGCTTAGAAGCAGCCATCCTTTAAAG...</td>\n",
       "    </tr>\n",
       "    <tr>\n",
       "      <th>4</th>\n",
       "      <td>SRR5788044.10005627-NS500496-106-HF3LCBGXX:2:1...</td>\n",
       "      <td>GTAGAGCACTGTTTCGGCTAGGGGGTCATCCCGACTTACCAAACCG...</td>\n",
       "    </tr>\n",
       "    <tr>\n",
       "      <th>...</th>\n",
       "      <td>...</td>\n",
       "      <td>...</td>\n",
       "    </tr>\n",
       "    <tr>\n",
       "      <th>46989</th>\n",
       "      <td>SRR5788044.9855455-NS500496-106-HF3LCBGXX:2:13...</td>\n",
       "      <td>CACAGAGGGTGAAAGTCCCGTATACGTAACGGATATGGCCATGTAA...</td>\n",
       "    </tr>\n",
       "    <tr>\n",
       "      <th>46990</th>\n",
       "      <td>SRR5788044.9889048-NS500496-106-HF3LCBGXX:2:13...</td>\n",
       "      <td>TGAGAATCTAGGGAAGAGTAGCAGCATAGAGTGGTGAGAATCCGCT...</td>\n",
       "    </tr>\n",
       "    <tr>\n",
       "      <th>46991</th>\n",
       "      <td>SRR5788044.9942923-NS500496-106-HF3LCBGXX:2:13...</td>\n",
       "      <td>ATCCTGGGTGTGCAGAAGCACCCAAGGGTGGGGTTGTTCGCCCATT...</td>\n",
       "    </tr>\n",
       "    <tr>\n",
       "      <th>46992</th>\n",
       "      <td>SRR5788044.9985239-NS500496-106-HF3LCBGXX:2:13...</td>\n",
       "      <td>TCCTGAGTAGCGTGCGTTGGATATCGCTCGTGAATATGGGGGGCAG...</td>\n",
       "    </tr>\n",
       "    <tr>\n",
       "      <th>46993</th>\n",
       "      <td>SRR5788044.9985239-NS500496-106-HF3LCBGXX:2:13...</td>\n",
       "      <td>AGATGTGTATAAGAGACAGTTCCTGAGTAGCGTGCGTTGGATATCG...</td>\n",
       "    </tr>\n",
       "  </tbody>\n",
       "</table>\n",
       "<p>46994 rows × 2 columns</p>\n",
       "</div>"
      ],
      "text/plain": [
       "                                               reference  \\\n",
       "0      SRR5788044.10000144-NS500496-106-HF3LCBGXX:2:1...   \n",
       "1      SRR5788044.1000402-NS500496-106-HF3LCBGXX:1:11...   \n",
       "2      SRR5788044.10005124-NS500496-106-HF3LCBGXX:2:1...   \n",
       "3      SRR5788044.10005627-NS500496-106-HF3LCBGXX:2:1...   \n",
       "4      SRR5788044.10005627-NS500496-106-HF3LCBGXX:2:1...   \n",
       "...                                                  ...   \n",
       "46989  SRR5788044.9855455-NS500496-106-HF3LCBGXX:2:13...   \n",
       "46990  SRR5788044.9889048-NS500496-106-HF3LCBGXX:2:13...   \n",
       "46991  SRR5788044.9942923-NS500496-106-HF3LCBGXX:2:13...   \n",
       "46992  SRR5788044.9985239-NS500496-106-HF3LCBGXX:2:13...   \n",
       "46993  SRR5788044.9985239-NS500496-106-HF3LCBGXX:2:13...   \n",
       "\n",
       "                                                sequence  \n",
       "0      TTTGAAGTGGTGGCGTCAGCTGCCATGGAGTCGCCAGTGAAATACC...  \n",
       "1      CGGCAGCGAAGTTGGTGATGTCATGCTTCCAAGAAAAGCCCTATAC...  \n",
       "2      TGGATGACTTGTGGTAAGGGGTGAAAGGCCAACCAAATTCGTAGAT...  \n",
       "3      ACTTATACAGCTAGGAGGTTGGCTTAGAAGCAGCCATCCTTTAAAG...  \n",
       "4      GTAGAGCACTGTTTCGGCTAGGGGGTCATCCCGACTTACCAAACCG...  \n",
       "...                                                  ...  \n",
       "46989  CACAGAGGGTGAAAGTCCCGTATACGTAACGGATATGGCCATGTAA...  \n",
       "46990  TGAGAATCTAGGGAAGAGTAGCAGCATAGAGTGGTGAGAATCCGCT...  \n",
       "46991  ATCCTGGGTGTGCAGAAGCACCCAAGGGTGGGGTTGTTCGCCCATT...  \n",
       "46992  TCCTGAGTAGCGTGCGTTGGATATCGCTCGTGAATATGGGGGGCAG...  \n",
       "46993  AGATGTGTATAAGAGACAGTTCCTGAGTAGCGTGCGTTGGATATCG...  \n",
       "\n",
       "[46994 rows x 2 columns]"
      ]
     },
     "execution_count": 47,
     "metadata": {},
     "output_type": "execute_result"
    }
   ],
   "source": [
    "fasta = fasta_files[0].read_pandas()\n",
    "fasta"
   ]
  },
  {
   "cell_type": "code",
   "execution_count": 48,
   "metadata": {},
   "outputs": [
    {
     "name": "stdout",
     "output_type": "stream",
     "text": [
      "<class 'pandas.core.frame.DataFrame'>\n",
      "RangeIndex: 46994 entries, 0 to 46993\n",
      "Data columns (total 2 columns):\n",
      " #   Column     Non-Null Count  Dtype \n",
      "---  ------     --------------  ----- \n",
      " 0   reference  46994 non-null  object\n",
      " 1   sequence   46994 non-null  object\n",
      "dtypes: object(2)\n",
      "memory usage: 734.4+ KB\n"
     ]
    }
   ],
   "source": [
    "fasta.info()"
   ]
  },
  {
   "cell_type": "code",
   "execution_count": 54,
   "metadata": {},
   "outputs": [
    {
     "data": {
      "text/html": [
       "<div>\n",
       "<style scoped>\n",
       "    .dataframe tbody tr th:only-of-type {\n",
       "        vertical-align: middle;\n",
       "    }\n",
       "\n",
       "    .dataframe tbody tr th {\n",
       "        vertical-align: top;\n",
       "    }\n",
       "\n",
       "    .dataframe thead th {\n",
       "        text-align: right;\n",
       "    }\n",
       "</style>\n",
       "<table border=\"1\" class=\"dataframe\">\n",
       "  <thead>\n",
       "    <tr style=\"text-align: right;\">\n",
       "      <th></th>\n",
       "      <th>#query</th>\n",
       "      <th>dbhit</th>\n",
       "      <th>bitscore</th>\n",
       "      <th>identity</th>\n",
       "      <th>matches</th>\n",
       "      <th>mismatches</th>\n",
       "      <th>gaps</th>\n",
       "      <th>query_start</th>\n",
       "      <th>query_end</th>\n",
       "      <th>dbhit_start</th>\n",
       "      <th>dbhit_end</th>\n",
       "      <th>strand</th>\n",
       "      <th>Unnamed: 12</th>\n",
       "      <th>SILVA</th>\n",
       "      <th>Unnamed: 14</th>\n",
       "    </tr>\n",
       "  </thead>\n",
       "  <tbody>\n",
       "    <tr>\n",
       "      <th>0</th>\n",
       "      <td>SRR5788044.10000144-NS500496-106-HF3LCBGXX:2:1...</td>\n",
       "      <td>MDKK01000001.24633.27373</td>\n",
       "      <td>238</td>\n",
       "      <td>0.954198</td>\n",
       "      <td>250</td>\n",
       "      <td>12</td>\n",
       "      <td>0</td>\n",
       "      <td>0</td>\n",
       "      <td>262</td>\n",
       "      <td>1983</td>\n",
       "      <td>2245</td>\n",
       "      <td>+</td>\n",
       "      <td>NaN</td>\n",
       "      <td>sk__Bacteria;k__;p__Proteobacteria;c__Alphapro...</td>\n",
       "      <td>NaN</td>\n",
       "    </tr>\n",
       "    <tr>\n",
       "      <th>1</th>\n",
       "      <td>SRR5788044.1000402-NS500496-106-HF3LCBGXX:1:11...</td>\n",
       "      <td>MWPE01000234.22117.24981</td>\n",
       "      <td>179</td>\n",
       "      <td>1.000000</td>\n",
       "      <td>179</td>\n",
       "      <td>0</td>\n",
       "      <td>0</td>\n",
       "      <td>0</td>\n",
       "      <td>179</td>\n",
       "      <td>1529</td>\n",
       "      <td>1708</td>\n",
       "      <td>+</td>\n",
       "      <td>NaN</td>\n",
       "      <td>sk__Bacteria;k__;p__Cyanobacteria;c__;o__Synec...</td>\n",
       "      <td>NaN</td>\n",
       "    </tr>\n",
       "    <tr>\n",
       "      <th>2</th>\n",
       "      <td>SRR5788044.10005124-NS500496-106-HF3LCBGXX:2:1...</td>\n",
       "      <td>GU574705.3739.6533</td>\n",
       "      <td>211</td>\n",
       "      <td>1.000000</td>\n",
       "      <td>211</td>\n",
       "      <td>0</td>\n",
       "      <td>0</td>\n",
       "      <td>0</td>\n",
       "      <td>211</td>\n",
       "      <td>742</td>\n",
       "      <td>953</td>\n",
       "      <td>+</td>\n",
       "      <td>NaN</td>\n",
       "      <td>sk__Bacteria;k__;p__Proteobacteria;c__Alphapro...</td>\n",
       "      <td>NaN</td>\n",
       "    </tr>\n",
       "    <tr>\n",
       "      <th>3</th>\n",
       "      <td>SRR5788044.10005627-NS500496-106-HF3LCBGXX:2:1...</td>\n",
       "      <td>AACY020565549.943.3654</td>\n",
       "      <td>142</td>\n",
       "      <td>0.993056</td>\n",
       "      <td>143</td>\n",
       "      <td>1</td>\n",
       "      <td>0</td>\n",
       "      <td>0</td>\n",
       "      <td>144</td>\n",
       "      <td>1002</td>\n",
       "      <td>1146</td>\n",
       "      <td>+</td>\n",
       "      <td>NaN</td>\n",
       "      <td>sk__Bacteria;k__;p__Proteobacteria;c__Gammapro...</td>\n",
       "      <td>NaN</td>\n",
       "    </tr>\n",
       "    <tr>\n",
       "      <th>4</th>\n",
       "      <td>SRR5788044.10005627-NS500496-106-HF3LCBGXX:2:1...</td>\n",
       "      <td>AACY020556324.4185.6607</td>\n",
       "      <td>141</td>\n",
       "      <td>0.973154</td>\n",
       "      <td>145</td>\n",
       "      <td>4</td>\n",
       "      <td>0</td>\n",
       "      <td>0</td>\n",
       "      <td>149</td>\n",
       "      <td>533</td>\n",
       "      <td>682</td>\n",
       "      <td>+</td>\n",
       "      <td>NaN</td>\n",
       "      <td>sk__Bacteria;k__;p__Proteobacteria;c__Gammapro...</td>\n",
       "      <td>NaN</td>\n",
       "    </tr>\n",
       "    <tr>\n",
       "      <th>...</th>\n",
       "      <td>...</td>\n",
       "      <td>...</td>\n",
       "      <td>...</td>\n",
       "      <td>...</td>\n",
       "      <td>...</td>\n",
       "      <td>...</td>\n",
       "      <td>...</td>\n",
       "      <td>...</td>\n",
       "      <td>...</td>\n",
       "      <td>...</td>\n",
       "      <td>...</td>\n",
       "      <td>...</td>\n",
       "      <td>...</td>\n",
       "      <td>...</td>\n",
       "      <td>...</td>\n",
       "    </tr>\n",
       "    <tr>\n",
       "      <th>46979</th>\n",
       "      <td>SRR5788044.9855455-NS500496-106-HF3LCBGXX:2:13...</td>\n",
       "      <td>LURV01000038.566.3453</td>\n",
       "      <td>196</td>\n",
       "      <td>1.000000</td>\n",
       "      <td>196</td>\n",
       "      <td>0</td>\n",
       "      <td>0</td>\n",
       "      <td>0</td>\n",
       "      <td>196</td>\n",
       "      <td>345</td>\n",
       "      <td>541</td>\n",
       "      <td>+</td>\n",
       "      <td>NaN</td>\n",
       "      <td>sk__Archaea;k__;p__Euryarchaeota;c__;o__;f__;g__</td>\n",
       "      <td>NaN</td>\n",
       "    </tr>\n",
       "    <tr>\n",
       "      <th>46980</th>\n",
       "      <td>SRR5788044.9889048-NS500496-106-HF3LCBGXX:2:13...</td>\n",
       "      <td>CENG01045021.1.2603</td>\n",
       "      <td>251</td>\n",
       "      <td>0.996047</td>\n",
       "      <td>252</td>\n",
       "      <td>1</td>\n",
       "      <td>0</td>\n",
       "      <td>0</td>\n",
       "      <td>253</td>\n",
       "      <td>1316</td>\n",
       "      <td>1569</td>\n",
       "      <td>+</td>\n",
       "      <td>NaN</td>\n",
       "      <td>sk__Archaea;k__;p__Euryarchaeota;c__;o__;f__;g...</td>\n",
       "      <td>NaN</td>\n",
       "    </tr>\n",
       "    <tr>\n",
       "      <th>46981</th>\n",
       "      <td>SRR5788044.9942923-NS500496-106-HF3LCBGXX:2:13...</td>\n",
       "      <td>CESN01102825.363.3172</td>\n",
       "      <td>217</td>\n",
       "      <td>1.000000</td>\n",
       "      <td>217</td>\n",
       "      <td>0</td>\n",
       "      <td>0</td>\n",
       "      <td>0</td>\n",
       "      <td>217</td>\n",
       "      <td>2540</td>\n",
       "      <td>2757</td>\n",
       "      <td>+</td>\n",
       "      <td>NaN</td>\n",
       "      <td>sk__Archaea;k__;p__Euryarchaeota;c__;o__;f__;g__</td>\n",
       "      <td>NaN</td>\n",
       "    </tr>\n",
       "    <tr>\n",
       "      <th>46982</th>\n",
       "      <td>SRR5788044.9985239-NS500496-106-HF3LCBGXX:2:13...</td>\n",
       "      <td>LURP01000175.823.3708</td>\n",
       "      <td>98</td>\n",
       "      <td>1.000000</td>\n",
       "      <td>98</td>\n",
       "      <td>0</td>\n",
       "      <td>0</td>\n",
       "      <td>0</td>\n",
       "      <td>98</td>\n",
       "      <td>392</td>\n",
       "      <td>490</td>\n",
       "      <td>+</td>\n",
       "      <td>NaN</td>\n",
       "      <td>sk__Archaea;k__;p__Euryarchaeota;c__;o__;f__;g__</td>\n",
       "      <td>NaN</td>\n",
       "    </tr>\n",
       "    <tr>\n",
       "      <th>46983</th>\n",
       "      <td>SRR5788044.9985239-NS500496-106-HF3LCBGXX:2:13...</td>\n",
       "      <td>LURP01000175.823.3708</td>\n",
       "      <td>99</td>\n",
       "      <td>1.000000</td>\n",
       "      <td>99</td>\n",
       "      <td>0</td>\n",
       "      <td>0</td>\n",
       "      <td>19</td>\n",
       "      <td>118</td>\n",
       "      <td>391</td>\n",
       "      <td>490</td>\n",
       "      <td>+</td>\n",
       "      <td>NaN</td>\n",
       "      <td>sk__Archaea;k__;p__Euryarchaeota;c__;o__;f__;g__</td>\n",
       "      <td>NaN</td>\n",
       "    </tr>\n",
       "  </tbody>\n",
       "</table>\n",
       "<p>46984 rows × 15 columns</p>\n",
       "</div>"
      ],
      "text/plain": [
       "                                                  #query  \\\n",
       "0      SRR5788044.10000144-NS500496-106-HF3LCBGXX:2:1...   \n",
       "1      SRR5788044.1000402-NS500496-106-HF3LCBGXX:1:11...   \n",
       "2      SRR5788044.10005124-NS500496-106-HF3LCBGXX:2:1...   \n",
       "3      SRR5788044.10005627-NS500496-106-HF3LCBGXX:2:1...   \n",
       "4      SRR5788044.10005627-NS500496-106-HF3LCBGXX:2:1...   \n",
       "...                                                  ...   \n",
       "46979  SRR5788044.9855455-NS500496-106-HF3LCBGXX:2:13...   \n",
       "46980  SRR5788044.9889048-NS500496-106-HF3LCBGXX:2:13...   \n",
       "46981  SRR5788044.9942923-NS500496-106-HF3LCBGXX:2:13...   \n",
       "46982  SRR5788044.9985239-NS500496-106-HF3LCBGXX:2:13...   \n",
       "46983  SRR5788044.9985239-NS500496-106-HF3LCBGXX:2:13...   \n",
       "\n",
       "                          dbhit  bitscore  identity  matches  mismatches  \\\n",
       "0      MDKK01000001.24633.27373       238  0.954198      250          12   \n",
       "1      MWPE01000234.22117.24981       179  1.000000      179           0   \n",
       "2            GU574705.3739.6533       211  1.000000      211           0   \n",
       "3        AACY020565549.943.3654       142  0.993056      143           1   \n",
       "4       AACY020556324.4185.6607       141  0.973154      145           4   \n",
       "...                         ...       ...       ...      ...         ...   \n",
       "46979     LURV01000038.566.3453       196  1.000000      196           0   \n",
       "46980       CENG01045021.1.2603       251  0.996047      252           1   \n",
       "46981     CESN01102825.363.3172       217  1.000000      217           0   \n",
       "46982     LURP01000175.823.3708        98  1.000000       98           0   \n",
       "46983     LURP01000175.823.3708        99  1.000000       99           0   \n",
       "\n",
       "       gaps  query_start  query_end  dbhit_start  dbhit_end strand  \\\n",
       "0         0            0        262         1983       2245      +   \n",
       "1         0            0        179         1529       1708      +   \n",
       "2         0            0        211          742        953      +   \n",
       "3         0            0        144         1002       1146      +   \n",
       "4         0            0        149          533        682      +   \n",
       "...     ...          ...        ...          ...        ...    ...   \n",
       "46979     0            0        196          345        541      +   \n",
       "46980     0            0        253         1316       1569      +   \n",
       "46981     0            0        217         2540       2757      +   \n",
       "46982     0            0         98          392        490      +   \n",
       "46983     0           19        118          391        490      +   \n",
       "\n",
       "       Unnamed: 12                                              SILVA  \\\n",
       "0              NaN  sk__Bacteria;k__;p__Proteobacteria;c__Alphapro...   \n",
       "1              NaN  sk__Bacteria;k__;p__Cyanobacteria;c__;o__Synec...   \n",
       "2              NaN  sk__Bacteria;k__;p__Proteobacteria;c__Alphapro...   \n",
       "3              NaN  sk__Bacteria;k__;p__Proteobacteria;c__Gammapro...   \n",
       "4              NaN  sk__Bacteria;k__;p__Proteobacteria;c__Gammapro...   \n",
       "...            ...                                                ...   \n",
       "46979          NaN   sk__Archaea;k__;p__Euryarchaeota;c__;o__;f__;g__   \n",
       "46980          NaN  sk__Archaea;k__;p__Euryarchaeota;c__;o__;f__;g...   \n",
       "46981          NaN   sk__Archaea;k__;p__Euryarchaeota;c__;o__;f__;g__   \n",
       "46982          NaN   sk__Archaea;k__;p__Euryarchaeota;c__;o__;f__;g__   \n",
       "46983          NaN   sk__Archaea;k__;p__Euryarchaeota;c__;o__;f__;g__   \n",
       "\n",
       "       Unnamed: 14  \n",
       "0              NaN  \n",
       "1              NaN  \n",
       "2              NaN  \n",
       "3              NaN  \n",
       "4              NaN  \n",
       "...            ...  \n",
       "46979          NaN  \n",
       "46980          NaN  \n",
       "46981          NaN  \n",
       "46982          NaN  \n",
       "46983          NaN  \n",
       "\n",
       "[46984 rows x 15 columns]"
      ]
     },
     "execution_count": 54,
     "metadata": {},
     "output_type": "execute_result"
    }
   ],
   "source": [
    "mseq = mseq_files[0].read()\n",
    "mseq"
   ]
  },
  {
   "cell_type": "code",
   "execution_count": 50,
   "metadata": {},
   "outputs": [
    {
     "name": "stdout",
     "output_type": "stream",
     "text": [
      "<class 'pandas.core.frame.DataFrame'>\n",
      "RangeIndex: 46984 entries, 0 to 46983\n",
      "Data columns (total 15 columns):\n",
      " #   Column       Non-Null Count  Dtype  \n",
      "---  ------       --------------  -----  \n",
      " 0   #query       46984 non-null  object \n",
      " 1   dbhit        46984 non-null  object \n",
      " 2   bitscore     46984 non-null  int64  \n",
      " 3   identity     46984 non-null  float64\n",
      " 4   matches      46984 non-null  int64  \n",
      " 5   mismatches   46984 non-null  int64  \n",
      " 6   gaps         46984 non-null  int64  \n",
      " 7   query_start  46984 non-null  int64  \n",
      " 8   query_end    46984 non-null  int64  \n",
      " 9   dbhit_start  46984 non-null  int64  \n",
      " 10  dbhit_end    46984 non-null  int64  \n",
      " 11  strand       46984 non-null  object \n",
      " 12  Unnamed: 12  0 non-null      float64\n",
      " 13  SILVA        46984 non-null  object \n",
      " 14  Unnamed: 14  0 non-null      float64\n",
      "dtypes: float64(3), int64(8), object(4)\n",
      "memory usage: 5.4+ MB\n"
     ]
    }
   ],
   "source": [
    "mseq.info()"
   ]
  },
  {
   "cell_type": "code",
   "execution_count": 5,
   "metadata": {},
   "outputs": [
    {
     "name": "stdout",
     "output_type": "stream",
     "text": [
      "<class 'pandas.core.frame.DataFrame'>\n",
      "RangeIndex: 121 entries, 0 to 120\n",
      "Data columns (total 4 columns):\n",
      " #   Column    Non-Null Count  Dtype  \n",
      "---  ------    --------------  -----  \n",
      " 0   # OTU ID  121 non-null    int64  \n",
      " 1   SSU_rRNA  121 non-null    float64\n",
      " 2   taxonomy  121 non-null    object \n",
      " 3   taxid     121 non-null    int64  \n",
      "dtypes: float64(1), int64(2), object(1)\n",
      "memory usage: 3.9+ KB\n"
     ]
    }
   ],
   "source": [
    "otu = tsv_files[0].read()\n",
    "otu.info()"
   ]
  },
  {
   "attachments": {},
   "cell_type": "markdown",
   "metadata": {},
   "source": [
    "So we go from 46,994 reads in fasta to 46,984 hits in the mseq file to just 121 OTUs.\n",
    "\n",
    "The same number of distinct taxonomy values in the mseq file as well as the OTU suggests that the OTUs correspond to all distinct taxonomic assignments regardless of sequence similarity. All reads with assignment Bacteria for example are collapsed into a single OTU."
   ]
  },
  {
   "cell_type": "code",
   "execution_count": 6,
   "metadata": {},
   "outputs": [
    {
     "data": {
      "text/plain": [
       "121"
      ]
     },
     "execution_count": 6,
     "metadata": {},
     "output_type": "execute_result"
    }
   ],
   "source": [
    "pd.Series([clean_taxonomy_string(tax) for tax in otu[\"taxonomy\"]]).nunique()"
   ]
  },
  {
   "cell_type": "code",
   "execution_count": 7,
   "metadata": {},
   "outputs": [
    {
     "data": {
      "text/plain": [
       "121"
      ]
     },
     "execution_count": 7,
     "metadata": {},
     "output_type": "execute_result"
    }
   ],
   "source": [
    "pd.Series([clean_taxonomy_string(tax) for tax in mseq[\"SILVA\"]]).nunique()"
   ]
  },
  {
   "cell_type": "code",
   "execution_count": 39,
   "metadata": {},
   "outputs": [
    {
     "data": {
      "text/html": [
       "<div>\n",
       "<style scoped>\n",
       "    .dataframe tbody tr th:only-of-type {\n",
       "        vertical-align: middle;\n",
       "    }\n",
       "\n",
       "    .dataframe tbody tr th {\n",
       "        vertical-align: top;\n",
       "    }\n",
       "\n",
       "    .dataframe thead th {\n",
       "        text-align: right;\n",
       "    }\n",
       "</style>\n",
       "<table border=\"1\" class=\"dataframe\">\n",
       "  <thead>\n",
       "    <tr style=\"text-align: right;\">\n",
       "      <th></th>\n",
       "      <th>#query</th>\n",
       "      <th>dbhit</th>\n",
       "      <th>bitscore</th>\n",
       "      <th>identity</th>\n",
       "      <th>matches</th>\n",
       "      <th>mismatches</th>\n",
       "      <th>gaps</th>\n",
       "      <th>query_start</th>\n",
       "      <th>query_end</th>\n",
       "      <th>dbhit_start</th>\n",
       "      <th>dbhit_end</th>\n",
       "      <th>strand</th>\n",
       "      <th>Unnamed: 12</th>\n",
       "      <th>SILVA</th>\n",
       "      <th>Unnamed: 14</th>\n",
       "    </tr>\n",
       "  </thead>\n",
       "  <tbody>\n",
       "    <tr>\n",
       "      <th>148</th>\n",
       "      <td>SRR5788044.10096039-NS500496-106-HF3LCBGXX:2:1...</td>\n",
       "      <td>FUFK010036927.1.2535</td>\n",
       "      <td>144</td>\n",
       "      <td>0.986486</td>\n",
       "      <td>146</td>\n",
       "      <td>2</td>\n",
       "      <td>0</td>\n",
       "      <td>0</td>\n",
       "      <td>148</td>\n",
       "      <td>2286</td>\n",
       "      <td>2434</td>\n",
       "      <td>+</td>\n",
       "      <td>NaN</td>\n",
       "      <td>sk__Bacteria;k__;p__;c__;o__;f__;g__;s__</td>\n",
       "      <td>NaN</td>\n",
       "    </tr>\n",
       "    <tr>\n",
       "      <th>149</th>\n",
       "      <td>SRR5788044.10096039-NS500496-106-HF3LCBGXX:2:1...</td>\n",
       "      <td>FUFK010036398.1.2602</td>\n",
       "      <td>135</td>\n",
       "      <td>0.959184</td>\n",
       "      <td>141</td>\n",
       "      <td>6</td>\n",
       "      <td>0</td>\n",
       "      <td>0</td>\n",
       "      <td>147</td>\n",
       "      <td>2246</td>\n",
       "      <td>2393</td>\n",
       "      <td>+</td>\n",
       "      <td>NaN</td>\n",
       "      <td>sk__Bacteria;k__;p__;c__;o__;f__;g__</td>\n",
       "      <td>NaN</td>\n",
       "    </tr>\n",
       "    <tr>\n",
       "      <th>222</th>\n",
       "      <td>SRR5788044.10139168-NS500496-106-HF3LCBGXX:2:1...</td>\n",
       "      <td>AACY020553637.2732.5725</td>\n",
       "      <td>143</td>\n",
       "      <td>0.979866</td>\n",
       "      <td>146</td>\n",
       "      <td>3</td>\n",
       "      <td>0</td>\n",
       "      <td>0</td>\n",
       "      <td>149</td>\n",
       "      <td>2434</td>\n",
       "      <td>2583</td>\n",
       "      <td>+</td>\n",
       "      <td>NaN</td>\n",
       "      <td>sk__Bacteria;k__;p__;c__;o__;f__;g__</td>\n",
       "      <td>NaN</td>\n",
       "    </tr>\n",
       "    <tr>\n",
       "      <th>223</th>\n",
       "      <td>SRR5788044.10139168-NS500496-106-HF3LCBGXX:2:1...</td>\n",
       "      <td>AACY020564201.393.3385</td>\n",
       "      <td>147</td>\n",
       "      <td>0.993289</td>\n",
       "      <td>148</td>\n",
       "      <td>1</td>\n",
       "      <td>0</td>\n",
       "      <td>0</td>\n",
       "      <td>149</td>\n",
       "      <td>2779</td>\n",
       "      <td>2928</td>\n",
       "      <td>+</td>\n",
       "      <td>NaN</td>\n",
       "      <td>sk__Bacteria;k__;p__;c__;o__;f__;g__;s__</td>\n",
       "      <td>NaN</td>\n",
       "    </tr>\n",
       "    <tr>\n",
       "      <th>241</th>\n",
       "      <td>SRR5788044.1015022-NS500496-106-HF3LCBGXX:1:11...</td>\n",
       "      <td>AACY020564201.393.3385</td>\n",
       "      <td>94</td>\n",
       "      <td>1.000000</td>\n",
       "      <td>94</td>\n",
       "      <td>0</td>\n",
       "      <td>0</td>\n",
       "      <td>0</td>\n",
       "      <td>94</td>\n",
       "      <td>1066</td>\n",
       "      <td>1160</td>\n",
       "      <td>+</td>\n",
       "      <td>NaN</td>\n",
       "      <td>sk__Bacteria;k__;p__;c__;o__;f__;g__;s__</td>\n",
       "      <td>NaN</td>\n",
       "    </tr>\n",
       "    <tr>\n",
       "      <th>...</th>\n",
       "      <td>...</td>\n",
       "      <td>...</td>\n",
       "      <td>...</td>\n",
       "      <td>...</td>\n",
       "      <td>...</td>\n",
       "      <td>...</td>\n",
       "      <td>...</td>\n",
       "      <td>...</td>\n",
       "      <td>...</td>\n",
       "      <td>...</td>\n",
       "      <td>...</td>\n",
       "      <td>...</td>\n",
       "      <td>...</td>\n",
       "      <td>...</td>\n",
       "      <td>...</td>\n",
       "    </tr>\n",
       "    <tr>\n",
       "      <th>44729</th>\n",
       "      <td>SRR5788044.26984355-NS500496-106-HF3LCBGXX:4:2...</td>\n",
       "      <td>CEQN01024248.2.2406</td>\n",
       "      <td>43</td>\n",
       "      <td>0.776596</td>\n",
       "      <td>73</td>\n",
       "      <td>19</td>\n",
       "      <td>2</td>\n",
       "      <td>58</td>\n",
       "      <td>150</td>\n",
       "      <td>448</td>\n",
       "      <td>542</td>\n",
       "      <td>+</td>\n",
       "      <td>NaN</td>\n",
       "      <td>sk__Bacteria;k__</td>\n",
       "      <td>NaN</td>\n",
       "    </tr>\n",
       "    <tr>\n",
       "      <th>45411</th>\n",
       "      <td>SRR5788044.658775-NS500496-106-HF3LCBGXX:1:112...</td>\n",
       "      <td>MEXB01000013.33683.35781</td>\n",
       "      <td>41</td>\n",
       "      <td>0.742857</td>\n",
       "      <td>78</td>\n",
       "      <td>25</td>\n",
       "      <td>2</td>\n",
       "      <td>29</td>\n",
       "      <td>132</td>\n",
       "      <td>520</td>\n",
       "      <td>625</td>\n",
       "      <td>+</td>\n",
       "      <td>NaN</td>\n",
       "      <td>sk__Bacteria;k__</td>\n",
       "      <td>NaN</td>\n",
       "    </tr>\n",
       "    <tr>\n",
       "      <th>46282</th>\n",
       "      <td>SRR5788044.20719679-NS500496-106-HF3LCBGXX:3:2...</td>\n",
       "      <td>AUOS02000042.824.3639</td>\n",
       "      <td>81</td>\n",
       "      <td>0.786667</td>\n",
       "      <td>118</td>\n",
       "      <td>25</td>\n",
       "      <td>7</td>\n",
       "      <td>4</td>\n",
       "      <td>147</td>\n",
       "      <td>34</td>\n",
       "      <td>184</td>\n",
       "      <td>+</td>\n",
       "      <td>NaN</td>\n",
       "      <td>sk__Bacteria;k__</td>\n",
       "      <td>NaN</td>\n",
       "    </tr>\n",
       "    <tr>\n",
       "      <th>46782</th>\n",
       "      <td>SRR5788044.5182489-NS500496-106-HF3LCBGXX:1:22...</td>\n",
       "      <td>FUFK010036927.1.2535</td>\n",
       "      <td>89</td>\n",
       "      <td>0.932039</td>\n",
       "      <td>96</td>\n",
       "      <td>7</td>\n",
       "      <td>0</td>\n",
       "      <td>0</td>\n",
       "      <td>103</td>\n",
       "      <td>1660</td>\n",
       "      <td>1763</td>\n",
       "      <td>+</td>\n",
       "      <td>NaN</td>\n",
       "      <td>sk__Bacteria;k__;p__;c__;o__;f__</td>\n",
       "      <td>NaN</td>\n",
       "    </tr>\n",
       "    <tr>\n",
       "      <th>46783</th>\n",
       "      <td>SRR5788044.5182489-NS500496-106-HF3LCBGXX:1:22...</td>\n",
       "      <td>FUFK010036927.1.2535</td>\n",
       "      <td>87</td>\n",
       "      <td>0.922330</td>\n",
       "      <td>95</td>\n",
       "      <td>8</td>\n",
       "      <td>0</td>\n",
       "      <td>8</td>\n",
       "      <td>111</td>\n",
       "      <td>1660</td>\n",
       "      <td>1763</td>\n",
       "      <td>+</td>\n",
       "      <td>NaN</td>\n",
       "      <td>sk__Bacteria;k__;p__;c__;o__;f__</td>\n",
       "      <td>NaN</td>\n",
       "    </tr>\n",
       "  </tbody>\n",
       "</table>\n",
       "<p>1761 rows × 15 columns</p>\n",
       "</div>"
      ],
      "text/plain": [
       "                                                  #query  \\\n",
       "148    SRR5788044.10096039-NS500496-106-HF3LCBGXX:2:1...   \n",
       "149    SRR5788044.10096039-NS500496-106-HF3LCBGXX:2:1...   \n",
       "222    SRR5788044.10139168-NS500496-106-HF3LCBGXX:2:1...   \n",
       "223    SRR5788044.10139168-NS500496-106-HF3LCBGXX:2:1...   \n",
       "241    SRR5788044.1015022-NS500496-106-HF3LCBGXX:1:11...   \n",
       "...                                                  ...   \n",
       "44729  SRR5788044.26984355-NS500496-106-HF3LCBGXX:4:2...   \n",
       "45411  SRR5788044.658775-NS500496-106-HF3LCBGXX:1:112...   \n",
       "46282  SRR5788044.20719679-NS500496-106-HF3LCBGXX:3:2...   \n",
       "46782  SRR5788044.5182489-NS500496-106-HF3LCBGXX:1:22...   \n",
       "46783  SRR5788044.5182489-NS500496-106-HF3LCBGXX:1:22...   \n",
       "\n",
       "                          dbhit  bitscore  identity  matches  mismatches  \\\n",
       "148        FUFK010036927.1.2535       144  0.986486      146           2   \n",
       "149        FUFK010036398.1.2602       135  0.959184      141           6   \n",
       "222     AACY020553637.2732.5725       143  0.979866      146           3   \n",
       "223      AACY020564201.393.3385       147  0.993289      148           1   \n",
       "241      AACY020564201.393.3385        94  1.000000       94           0   \n",
       "...                         ...       ...       ...      ...         ...   \n",
       "44729       CEQN01024248.2.2406        43  0.776596       73          19   \n",
       "45411  MEXB01000013.33683.35781        41  0.742857       78          25   \n",
       "46282     AUOS02000042.824.3639        81  0.786667      118          25   \n",
       "46782      FUFK010036927.1.2535        89  0.932039       96           7   \n",
       "46783      FUFK010036927.1.2535        87  0.922330       95           8   \n",
       "\n",
       "       gaps  query_start  query_end  dbhit_start  dbhit_end strand  \\\n",
       "148       0            0        148         2286       2434      +   \n",
       "149       0            0        147         2246       2393      +   \n",
       "222       0            0        149         2434       2583      +   \n",
       "223       0            0        149         2779       2928      +   \n",
       "241       0            0         94         1066       1160      +   \n",
       "...     ...          ...        ...          ...        ...    ...   \n",
       "44729     2           58        150          448        542      +   \n",
       "45411     2           29        132          520        625      +   \n",
       "46282     7            4        147           34        184      +   \n",
       "46782     0            0        103         1660       1763      +   \n",
       "46783     0            8        111         1660       1763      +   \n",
       "\n",
       "       Unnamed: 12                                     SILVA  Unnamed: 14  \n",
       "148            NaN  sk__Bacteria;k__;p__;c__;o__;f__;g__;s__          NaN  \n",
       "149            NaN      sk__Bacteria;k__;p__;c__;o__;f__;g__          NaN  \n",
       "222            NaN      sk__Bacteria;k__;p__;c__;o__;f__;g__          NaN  \n",
       "223            NaN  sk__Bacteria;k__;p__;c__;o__;f__;g__;s__          NaN  \n",
       "241            NaN  sk__Bacteria;k__;p__;c__;o__;f__;g__;s__          NaN  \n",
       "...            ...                                       ...          ...  \n",
       "44729          NaN                          sk__Bacteria;k__          NaN  \n",
       "45411          NaN                          sk__Bacteria;k__          NaN  \n",
       "46282          NaN                          sk__Bacteria;k__          NaN  \n",
       "46782          NaN          sk__Bacteria;k__;p__;c__;o__;f__          NaN  \n",
       "46783          NaN          sk__Bacteria;k__;p__;c__;o__;f__          NaN  \n",
       "\n",
       "[1761 rows x 15 columns]"
      ]
     },
     "execution_count": 39,
     "metadata": {},
     "output_type": "execute_result"
    }
   ],
   "source": [
    "mseq_bacteria = mseq.loc[mseq[\"SILVA\"].apply(lambda x: clean_taxonomy_string(x)) == \"sk__Bacteria\"]\n",
    "mseq_bacteria"
   ]
  },
  {
   "cell_type": "code",
   "execution_count": 41,
   "metadata": {},
   "outputs": [
    {
     "data": {
      "text/html": [
       "<div>\n",
       "<style scoped>\n",
       "    .dataframe tbody tr th:only-of-type {\n",
       "        vertical-align: middle;\n",
       "    }\n",
       "\n",
       "    .dataframe tbody tr th {\n",
       "        vertical-align: top;\n",
       "    }\n",
       "\n",
       "    .dataframe thead th {\n",
       "        text-align: right;\n",
       "    }\n",
       "</style>\n",
       "<table border=\"1\" class=\"dataframe\">\n",
       "  <thead>\n",
       "    <tr style=\"text-align: right;\">\n",
       "      <th></th>\n",
       "      <th># OTU ID</th>\n",
       "      <th>SSU_rRNA</th>\n",
       "      <th>taxonomy</th>\n",
       "      <th>taxid</th>\n",
       "    </tr>\n",
       "  </thead>\n",
       "  <tbody>\n",
       "    <tr>\n",
       "      <th>0</th>\n",
       "      <td>5820</td>\n",
       "      <td>203.0</td>\n",
       "      <td>sk__Bacteria</td>\n",
       "      <td>2</td>\n",
       "    </tr>\n",
       "  </tbody>\n",
       "</table>\n",
       "</div>"
      ],
      "text/plain": [
       "   # OTU ID  SSU_rRNA      taxonomy  taxid\n",
       "0      5820     203.0  sk__Bacteria      2"
      ]
     },
     "execution_count": 41,
     "metadata": {},
     "output_type": "execute_result"
    }
   ],
   "source": [
    "otu_bacteria = otu.loc[otu[\"taxonomy\"].apply(lambda x: clean_taxonomy_string(x)) == \"sk__Bacteria\"]\n",
    "otu_bacteria"
   ]
  },
  {
   "attachments": {},
   "cell_type": "markdown",
   "metadata": {},
   "source": [
    "Grouping by taxonomy appears to be the approach currently used in [mgnify-to-dwc](https://github.com/gbif/mgnify-to-dwc), see occurrences for this sample here: <https://www.gbif.org/occurrence/search?dataset_key=f6da16a0-ad5a-4f47-a347-aa6281de3d0d&advanced=1&event_id=MGYA00593805>"
   ]
  },
  {
   "attachments": {},
   "cell_type": "markdown",
   "metadata": {},
   "source": [
    "## Alternative approach\n",
    "\n",
    "Instead of relying on the OTU table as downloaded from MGnify, let's try grouping sequences by SILVA hit. I'm working with analysis <https://www.ebi.ac.uk/metagenomics/analyses/MGYA00463299> here."
   ]
  },
  {
   "cell_type": "code",
   "execution_count": 8,
   "metadata": {},
   "outputs": [
    {
     "data": {
      "text/plain": [
       "<Study https://www.ebi.ac.uk/metagenomics/studies/MGYS00005780 >"
      ]
     },
     "execution_count": 8,
     "metadata": {},
     "output_type": "execute_result"
    }
   ],
   "source": [
    "study = get_superstudy_studies(\"atlanteco\")[0]\n",
    "study\n"
   ]
  },
  {
   "cell_type": "code",
   "execution_count": 9,
   "metadata": {},
   "outputs": [
    {
     "data": {
      "text/plain": [
       "<Sample https://www.ebi.ac.uk/metagenomics/samples/SRS2329696 >"
      ]
     },
     "execution_count": 9,
     "metadata": {},
     "output_type": "execute_result"
    }
   ],
   "source": [
    "sample = study.get_samples(max_results=1)[0]\n",
    "sample"
   ]
  },
  {
   "cell_type": "code",
   "execution_count": 10,
   "metadata": {},
   "outputs": [
    {
     "data": {
      "text/plain": [
       "<Run https://www.ebi.ac.uk/metagenomics/runs/SRR5788044 >"
      ]
     },
     "execution_count": 10,
     "metadata": {},
     "output_type": "execute_result"
    }
   ],
   "source": [
    "run = sample.get_runs(max_results=1)[0]\n",
    "run"
   ]
  },
  {
   "cell_type": "code",
   "execution_count": 11,
   "metadata": {},
   "outputs": [
    {
     "data": {
      "text/plain": [
       "<Analysis https://www.ebi.ac.uk/metagenomics/analyses/MGYA00463299 >"
      ]
     },
     "execution_count": 11,
     "metadata": {},
     "output_type": "execute_result"
    }
   ],
   "source": [
    "analysis = run.get_analyses(max_results=1)[0]\n",
    "analysis"
   ]
  },
  {
   "cell_type": "code",
   "execution_count": 12,
   "metadata": {},
   "outputs": [],
   "source": [
    "marker = \"LSU\"\n",
    "downloads = analysis.get_downloads()\n",
    "fasta_files = [download for download in downloads if isinstance(download, FastaDownload) and download.marker == marker]\n",
    "mseq_files = [download for download in downloads if isinstance(download, MseqDownload) and download.marker == marker]\n",
    "fasta = fasta_files[0].read_pandas()\n",
    "mseq = mseq_files[0].read()"
   ]
  },
  {
   "attachments": {},
   "cell_type": "markdown",
   "metadata": {},
   "source": [
    "Merge fasta and mseq tables:"
   ]
  },
  {
   "cell_type": "code",
   "execution_count": 13,
   "metadata": {},
   "outputs": [],
   "source": [
    "df = fasta.merge(mseq.rename({\"#query\": \"reference\"}, axis=1), how=\"left\", on=\"reference\")"
   ]
  },
  {
   "cell_type": "markdown",
   "metadata": {},
   "source": [
    "First clean taxonomy strings by removing empty ranks:"
   ]
  },
  {
   "cell_type": "code",
   "execution_count": 14,
   "metadata": {},
   "outputs": [],
   "source": [
    "df[\"SILVA\"] = [clean_taxonomy_string(tax) for tax in df[\"SILVA\"]]"
   ]
  },
  {
   "attachments": {},
   "cell_type": "markdown",
   "metadata": {},
   "source": [
    "Let's take a look at the number of distinct sequences, taxonomy strings, and DB hits:"
   ]
  },
  {
   "cell_type": "code",
   "execution_count": 15,
   "metadata": {},
   "outputs": [
    {
     "data": {
      "text/plain": [
       "42037"
      ]
     },
     "execution_count": 15,
     "metadata": {},
     "output_type": "execute_result"
    }
   ],
   "source": [
    "df[\"sequence\"].nunique()"
   ]
  },
  {
   "cell_type": "code",
   "execution_count": 16,
   "metadata": {},
   "outputs": [
    {
     "data": {
      "text/plain": [
       "453"
      ]
     },
     "execution_count": 16,
     "metadata": {},
     "output_type": "execute_result"
    }
   ],
   "source": [
    "df[\"SILVA\"].nunique()"
   ]
  },
  {
   "cell_type": "code",
   "execution_count": 17,
   "metadata": {},
   "outputs": [
    {
     "data": {
      "text/plain": [
       "3184"
      ]
     },
     "execution_count": 17,
     "metadata": {},
     "output_type": "execute_result"
    }
   ],
   "source": [
    "df[\"dbhit\"].nunique()"
   ]
  },
  {
   "attachments": {},
   "cell_type": "markdown",
   "metadata": {},
   "source": [
    "So an alternative approach would be to group sequences by DB hit, and pick a random representative sequence."
   ]
  }
 ],
 "metadata": {
  "kernelspec": {
   "display_name": "Python 3",
   "language": "python",
   "name": "python3"
  },
  "language_info": {
   "codemirror_mode": {
    "name": "ipython",
    "version": 3
   },
   "file_extension": ".py",
   "mimetype": "text/x-python",
   "name": "python",
   "nbconvert_exporter": "python",
   "pygments_lexer": "ipython3",
   "version": "3.9.6"
  },
  "orig_nbformat": 4,
  "vscode": {
   "interpreter": {
    "hash": "314a97c846296f63d0e4efa7147ce547b99d51e3f641193b55b463cff9afbb5e"
   }
  }
 },
 "nbformat": 4,
 "nbformat_minor": 2
}
